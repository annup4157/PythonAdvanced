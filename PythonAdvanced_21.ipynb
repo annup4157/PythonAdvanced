{
 "cells": [
  {
   "cell_type": "markdown",
   "metadata": {},
   "source": [
    "## Q1. What is a probability distribution, exactly? If the values are meant to be random, how can you predict them at all?"
   ]
  },
  {
   "cell_type": "markdown",
   "metadata": {},
   "source": [
    "Ans: Probability distributuion is statistical function which discribe all the possible values and likelihoods that a random variable can take within a given range. Each number is has equal probability."
   ]
  },
  {
   "cell_type": "markdown",
   "metadata": {},
   "source": [
    "## Q2. Is there a distinction between true random numbers and pseudo-random numbers, if there is one? Why are the latter considered “good enough”"
   ]
  },
  {
   "cell_type": "markdown",
   "metadata": {},
   "source": [
    "Ans: Pseudo random number is taken from a sequence that behave as if randomly chosen. Pseudo random number is produced by algorith that generate a serie of bits that appear to be unpredictable. True Random number are not produced by algorithm. If the sequence is repeatable, its pseudorandom."
   ]
  },
  {
   "cell_type": "markdown",
   "metadata": {},
   "source": [
    "## Q3. What are the two main factors that influence the behaviour of a \"normal\" probability distribution?"
   ]
  },
  {
   "cell_type": "markdown",
   "metadata": {},
   "source": [
    "Ans: Normal probability distribution tends to generate values close to its mean. The two main factors are The mean and the standard distribution. The mean is the middle of the curve and standard deviation determines how narrow or wide the curve will be."
   ]
  },
  {
   "cell_type": "markdown",
   "metadata": {},
   "source": [
    "## Q4. Provide a real-life example of a normal distribution."
   ]
  },
  {
   "cell_type": "markdown",
   "metadata": {},
   "source": [
    "Ans: Height og the poplation is a real life example of normal distribution."
   ]
  },
  {
   "cell_type": "markdown",
   "metadata": {},
   "source": [
    "## Q5. In the short term, how can you expect a probability distribution to behave? What do you think will happen as the number of trials grows?"
   ]
  },
  {
   "cell_type": "markdown",
   "metadata": {},
   "source": [
    "Ans: Let's say if we have mean of 100 and standard deviation 20 then about 68% will fall within 80 to 120, 95 % within 40 to 160 in long run but in short run nothing is certain."
   ]
  },
  {
   "cell_type": "markdown",
   "metadata": {},
   "source": [
    "## Q6. What kind of object can be shuffled by using random.shuffle?"
   ]
  },
  {
   "cell_type": "markdown",
   "metadata": {},
   "source": [
    "Ans: radom.shuffle is used to shuffle a list object. random.shuffle rearrange a list in place."
   ]
  },
  {
   "cell_type": "markdown",
   "metadata": {},
   "source": [
    "## Q7. Describe the math package's general categories of functions."
   ]
  },
  {
   "cell_type": "markdown",
   "metadata": {},
   "source": [
    "Ans: In math package we get a lot of function that can used in mathematical and scientific application.\n",
    "\n",
    "Standard trigonometric functions: sin,cos and tan, it takes angle and returns ratio. Degree and radian conversion: degrees and radian, it converts degree to radian and vice versa.\n",
    "\n",
    "Inversetrigonometric functions: asin,acos and atan it return angle for a given ratio.\n",
    "\n",
    "Hyperbolic function: sinh,cosh and tanh, it is hyperbolic version of the trignometric functions.\n",
    "\n",
    "Logarithmic function: It includes logarithmic calculation and it is inverse of exponentiation.\n",
    "\n",
    "Conversion to integer: It converts floating point number to integer, floor (round up) and ceil (round down)\n",
    "\n",
    "Other: pow (power of exponentiation) and sqrt."
   ]
  },
  {
   "cell_type": "markdown",
   "metadata": {},
   "source": [
    "## Q8. What is the relationship between exponentiation and logarithms?"
   ]
  },
  {
   "cell_type": "markdown",
   "metadata": {},
   "source": [
    "Ans: Logarith is inverse of exponentiation. Exponentiation is a ** b, it is the process of calculating a power by multiplying together a number of equal factors while logarithm if a number is the exponent by which another fixed value, the base has to be raised to produce that number."
   ]
  },
  {
   "cell_type": "markdown",
   "metadata": {},
   "source": [
    "## 9. What are the three logarithmic functions that Python supports?"
   ]
  },
  {
   "cell_type": "markdown",
   "metadata": {},
   "source": [
    "Ans: Python supports, log10, log2,log."
   ]
  },
  {
   "cell_type": "code",
   "execution_count": null,
   "metadata": {},
   "outputs": [],
   "source": []
  }
 ],
 "metadata": {
  "kernelspec": {
   "display_name": "Python 3",
   "language": "python",
   "name": "python3"
  },
  "language_info": {
   "codemirror_mode": {
    "name": "ipython",
    "version": 3
   },
   "file_extension": ".py",
   "mimetype": "text/x-python",
   "name": "python",
   "nbconvert_exporter": "python",
   "pygments_lexer": "ipython3",
   "version": "3.8.5"
  }
 },
 "nbformat": 4,
 "nbformat_minor": 4
}
