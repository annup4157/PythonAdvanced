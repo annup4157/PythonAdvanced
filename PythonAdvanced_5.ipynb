{
 "cells": [
  {
   "cell_type": "markdown",
   "metadata": {},
   "source": [
    "## Q1. What is the meaning of multiple inheritance?"
   ]
  },
  {
   "cell_type": "markdown",
   "metadata": {},
   "source": [
    "Ans: In multiple inheritance, a class inherit characteristic and features of more than one parent class."
   ]
  },
  {
   "cell_type": "markdown",
   "metadata": {},
   "source": [
    "## Q2. What is the concept of delegation?"
   ]
  },
  {
   "cell_type": "markdown",
   "metadata": {},
   "source": [
    "Ans: Delegation is one entity passing something to another entity. In object oriented programming deletation refers to evaluating a method of one object in context to method of orignal object. It is like asking somebody else to do, in oops, object composition to achieve the same code reuse as inheritance."
   ]
  },
  {
   "cell_type": "markdown",
   "metadata": {},
   "source": [
    "## Q3. What is the concept of composition?"
   ]
  },
  {
   "cell_type": "markdown",
   "metadata": {},
   "source": [
    "Ans: Composition models has a relationship, Composite class can contain an object of another class Component. This relationship means that a Composite has a Component. In composition one of the classes is composed of one or more instance of other classes. In composition class is like a container, and other class is the content and by deleteing container object, all of the content will be deleted."
   ]
  },
  {
   "cell_type": "markdown",
   "metadata": {},
   "source": [
    "## Q4. What are bound methods and how do we use them?"
   ]
  },
  {
   "cell_type": "markdown",
   "metadata": {},
   "source": [
    "Ans: The method which is dependent on an instance of class as first argument is bound method."
   ]
  },
  {
   "cell_type": "code",
   "execution_count": 1,
   "metadata": {},
   "outputs": [
    {
     "name": "stdout",
     "output_type": "stream",
     "text": [
      "My name is Annu\n"
     ]
    }
   ],
   "source": [
    "class MyName:\n",
    "    def printName(self):\n",
    "        print('My name is Annu')\n",
    "n= MyName()\n",
    "\n",
    "#bound method\n",
    "n.printName()"
   ]
  },
  {
   "cell_type": "markdown",
   "metadata": {},
   "source": [
    "## Q5. What is the purpose of pseudo private attributes?"
   ]
  },
  {
   "cell_type": "markdown",
   "metadata": {},
   "source": [
    "Ans: It helps with the way instance attribute are stored. Within a class method in Python, whenever a method assigns to a self attribute e.g: self.attr = value, it changes or creates an attribute in the instance. Because this is true even if multiple classes in a hierarchy assign to the same attribute, collisions are possible. By adding __ before variable name you can make it private."
   ]
  },
  {
   "cell_type": "code",
   "execution_count": null,
   "metadata": {},
   "outputs": [],
   "source": []
  }
 ],
 "metadata": {
  "kernelspec": {
   "display_name": "Python 3",
   "language": "python",
   "name": "python3"
  },
  "language_info": {
   "codemirror_mode": {
    "name": "ipython",
    "version": 3
   },
   "file_extension": ".py",
   "mimetype": "text/x-python",
   "name": "python",
   "nbconvert_exporter": "python",
   "pygments_lexer": "ipython3",
   "version": "3.8.5"
  }
 },
 "nbformat": 4,
 "nbformat_minor": 4
}
