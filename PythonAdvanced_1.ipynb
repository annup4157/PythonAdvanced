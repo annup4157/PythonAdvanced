{
 "cells": [
  {
   "cell_type": "markdown",
   "metadata": {},
   "source": [
    "## Q1. What is the purpose of Python's OOP?"
   ]
  },
  {
   "cell_type": "markdown",
   "metadata": {},
   "source": [
    "Object-Oriented Programming makes the program easy to understand as well as efficient.\n",
    "Since the class is sharable, the code can be reused\n",
    "Data is safe and secure with data abstraction.\n",
    "Polymorphism allows the same interface for different objects, so programmers can write efficient code\n",
    "Inherit feature allows programmer to inhetit the methods from existing programs."
   ]
  },
  {
   "cell_type": "markdown",
   "metadata": {},
   "source": [
    "## Q2. Where does an inheritance search look for an attribute?"
   ]
  },
  {
   "cell_type": "markdown",
   "metadata": {},
   "source": [
    "The inheritance search happens in bottom up fashion. its starts form object.attr and search all the way up to the parent class to find the find the first occurrence of attribute by looking in object, then in all classes above it, from bottom to top and left to right"
   ]
  },
  {
   "cell_type": "markdown",
   "metadata": {},
   "source": [
    "# Q3. How do you distinguish between a class object and an instance object?"
   ]
  },
  {
   "cell_type": "markdown",
   "metadata": {},
   "source": [
    "## Class Object - \n",
    "when we create a class , a class object is created.The class name itself is class object. we can access class variable using this class name\n",
    "\n",
    "    Exanple  class test:\n",
    "                x = 10\n",
    "                def __init__(self,a,b)\n",
    "                    self.a = a\n",
    "                    self.b = b\n",
    "            print(test.x)\n",
    "\n",
    "using this text.x we can access its class variables.. We can have only one class objects for a class.\n",
    "\n",
    "## Instance Object - \n",
    "when we access class with paranthesis like test(), this will creat a instance of a class. we can have n numbers of instance objects for same class."
   ]
  },
  {
   "cell_type": "code",
   "execution_count": 1,
   "metadata": {},
   "outputs": [],
   "source": [
    "## Class object\n",
    "class test:\n",
    "    x = 10\n",
    "    def __init__(self,a,b):\n",
    "        self.a = a\n",
    "        self.b = b\n",
    "print(test.x)"
   ]
  },
  {
   "cell_type": "code",
   "execution_count": 2,
   "metadata": {},
   "outputs": [
    {
     "data": {
      "text/plain": [
       "3"
      ]
     },
     "execution_count": 2,
     "metadata": {},
     "output_type": "execute_result"
    }
   ],
   "source": [
    "## instance object\n",
    "instObj = test(3,4)\n",
    "instObj.a"
   ]
  },
  {
   "cell_type": "markdown",
   "metadata": {},
   "source": [
    "## Q4. What makes the first argument in a class’s method function special?"
   ]
  },
  {
   "cell_type": "markdown",
   "metadata": {},
   "source": [
    " The keyword self represents the instance of a class and binds the attributes with the given arguments."
   ]
  },
  {
   "cell_type": "markdown",
   "metadata": {},
   "source": [
    "## Q5. What is the purpose of the init method?"
   ]
  },
  {
   "cell_type": "markdown",
   "metadata": {},
   "source": [
    "__init__ is a reseved method in python classes. This method called when an object is created from the class and it allow the class to initialize the attributes of a class."
   ]
  },
  {
   "cell_type": "markdown",
   "metadata": {},
   "source": [
    "## Q6. What is the process for creating a class instance?"
   ]
  },
  {
   "cell_type": "markdown",
   "metadata": {},
   "source": [
    "To create instances of a class,\n",
    "\n",
    "1.Create a class\n",
    "2.call the class using class name and assign it to a variable (object variable)\n",
    "3.pass in whatever arguments its init method accepts"
   ]
  },
  {
   "cell_type": "code",
   "execution_count": 3,
   "metadata": {},
   "outputs": [],
   "source": [
    "class Employee:\n",
    "    empCount = 0\n",
    "\n",
    "    def __init__(self, name, salary):\n",
    "        self.name = name\n",
    "        self.salary = salary\n",
    "        Employee.empCount += 1\n",
    "        \n",
    "objClass = Employee('Annu','120000')"
   ]
  },
  {
   "cell_type": "markdown",
   "metadata": {},
   "source": [
    "## Q7. What is the process for creating a class?"
   ]
  },
  {
   "cell_type": "markdown",
   "metadata": {},
   "source": [
    "process to create class\n",
    "\n",
    "1.class definition starts with keyword class\n",
    "2.follwed by classname and ':'\n",
    "3.class will have doc string\n",
    "4.class should have at least one statements."
   ]
  },
  {
   "cell_type": "code",
   "execution_count": 4,
   "metadata": {},
   "outputs": [],
   "source": [
    "class MyNewClass:\n",
    "    '''This is a docstring. I have created a new class'''\n",
    "    pass"
   ]
  },
  {
   "cell_type": "markdown",
   "metadata": {},
   "source": [
    "## Q8. How would you define the superclasses of a class?"
   ]
  },
  {
   "cell_type": "markdown",
   "metadata": {},
   "source": [
    "The class from which a class inherits is called the parent or superclass."
   ]
  },
  {
   "cell_type": "code",
   "execution_count": null,
   "metadata": {},
   "outputs": [],
   "source": []
  }
 ],
 "metadata": {
  "kernelspec": {
   "display_name": "Python 3",
   "language": "python",
   "name": "python3"
  },
  "language_info": {
   "codemirror_mode": {
    "name": "ipython",
    "version": 3
   },
   "file_extension": ".py",
   "mimetype": "text/x-python",
   "name": "python",
   "nbconvert_exporter": "python",
   "pygments_lexer": "ipython3",
   "version": "3.8.5"
  }
 },
 "nbformat": 4,
 "nbformat_minor": 4
}
